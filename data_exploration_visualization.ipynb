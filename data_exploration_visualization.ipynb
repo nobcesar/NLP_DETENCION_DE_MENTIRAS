{
 "cells": [
  {
   "cell_type": "code",
   "execution_count": 1,
   "metadata": {},
   "outputs": [],
   "source": [
    "import jsonlines\n",
    "import json\n",
    "from sklearn.linear_model import LogisticRegression\n",
    "from sklearn.metrics import classification_report\n",
    "from sklearn.feature_extraction.text import CountVectorizer\n",
    "from sklearn.feature_selection import RFE\n",
    "import numpy as np\n",
    "from scipy.sparse import csr_matrix\n",
    "import spacy\n",
    "from spacy.lang.en import English\n",
    "from spacy.lang.en.stop_words import STOP_WORDS\n",
    "import sys\n",
    "import pandas as pd\n",
    "import warnings\n",
    "import matplotlib.pyplot as plt\n",
    "import seaborn as sns\n",
    "from nltk.corpus import stopwords\n",
    "import nltk\n",
    "from nltk.tokenize import word_tokenize\n",
    "import string\n",
    "import re\n",
    "warnings.filterwarnings(\"ignore\")"
   ]
  },
  {
   "cell_type": "code",
   "execution_count": 2,
   "metadata": {},
   "outputs": [],
   "source": [
    "def read_df (file_path):\n",
    "    \n",
    "    mensajes = []\n",
    "    try:\n",
    "        with open(file_path, 'r', encoding='utf-8') as file:\n",
    "            for line in file:\n",
    "            # Cada línea es un objeto JSON\n",
    "                mensaje = json.loads(line.rstrip())\n",
    "                mensajes.append(mensaje)\n",
    "    except FileNotFoundError:\n",
    "        print(f\"El archivo no se encontró: {file_path}\")\n",
    "\n",
    "    return pd.DataFrame(mensajes)\n",
    "\n",
    "#LECTURA DE LA DATA\n",
    "data_path = 'data/'\n",
    "input1= 'test.jsonl'\n",
    "input2= 'train.jsonl'\n",
    "file_path1 = data_path + input1\n",
    "file_path2 = data_path + input2\n",
    "\n",
    "mensajes_test= read_df(file_path1)\n",
    "mensajes_train= read_df(file_path2)"
   ]
  },
  {
   "cell_type": "code",
   "execution_count": 3,
   "metadata": {},
   "outputs": [
    {
     "data": {
      "text/html": [
       "<div>\n",
       "<style scoped>\n",
       "    .dataframe tbody tr th:only-of-type {\n",
       "        vertical-align: middle;\n",
       "    }\n",
       "\n",
       "    .dataframe tbody tr th {\n",
       "        vertical-align: top;\n",
       "    }\n",
       "\n",
       "    .dataframe thead th {\n",
       "        text-align: right;\n",
       "    }\n",
       "</style>\n",
       "<table border=\"1\" class=\"dataframe\">\n",
       "  <thead>\n",
       "    <tr style=\"text-align: right;\">\n",
       "      <th></th>\n",
       "      <th>messages</th>\n",
       "      <th>sender_labels</th>\n",
       "      <th>receiver_labels</th>\n",
       "      <th>speakers</th>\n",
       "      <th>receivers</th>\n",
       "      <th>absolute_message_index</th>\n",
       "      <th>relative_message_index</th>\n",
       "      <th>seasons</th>\n",
       "      <th>years</th>\n",
       "      <th>game_score</th>\n",
       "      <th>game_score_delta</th>\n",
       "      <th>players</th>\n",
       "      <th>game_id</th>\n",
       "    </tr>\n",
       "  </thead>\n",
       "  <tbody>\n",
       "    <tr>\n",
       "      <th>0</th>\n",
       "      <td>[Germany!\\n\\nJust the person I want to speak w...</td>\n",
       "      <td>[True, True, True, True, True, True, True, Tru...</td>\n",
       "      <td>[True, True, True, True, NOANNOTATION, NOANNOT...</td>\n",
       "      <td>[italy, germany, italy, germany, italy, italy,...</td>\n",
       "      <td>[germany, italy, germany, italy, germany, germ...</td>\n",
       "      <td>[74, 76, 86, 87, 89, 92, 97, 117, 119, 121, 12...</td>\n",
       "      <td>[0, 1, 2, 3, 4, 5, 6, 7, 8, 9, 10, 11, 12, 13,...</td>\n",
       "      <td>[Spring, Spring, Spring, Spring, Spring, Sprin...</td>\n",
       "      <td>[1901, 1901, 1901, 1901, 1901, 1901, 1901, 190...</td>\n",
       "      <td>[3, 3, 3, 3, 3, 3, 3, 3, 3, 3, 3, 3, 3, 3, 3, ...</td>\n",
       "      <td>[0, 0, 0, 0, 0, 0, 0, 0, 0, 0, 0, 0, 0, 0, 0, ...</td>\n",
       "      <td>[italy, germany]</td>\n",
       "      <td>1</td>\n",
       "    </tr>\n",
       "    <tr>\n",
       "      <th>1</th>\n",
       "      <td>[Hello there! What's your general plan for thi...</td>\n",
       "      <td>[True, False, True, False, True, True, True, T...</td>\n",
       "      <td>[True, True, True, True, True, NOANNOTATION, T...</td>\n",
       "      <td>[austria, italy, austria, italy, italy, austri...</td>\n",
       "      <td>[italy, austria, italy, austria, austria, ital...</td>\n",
       "      <td>[1, 67, 71, 73, 98, 99, 101, 179, 181, 185, 18...</td>\n",
       "      <td>[0, 1, 2, 3, 4, 5, 6, 7, 8, 9, 10, 11, 12, 13,...</td>\n",
       "      <td>[Spring, Spring, Spring, Spring, Spring, Sprin...</td>\n",
       "      <td>[1901, 1901, 1901, 1901, 1901, 1901, 1901, 190...</td>\n",
       "      <td>[3, 3, 3, 3, 3, 3, 3, 3, 3, 3, 3, 4, 5, 4, 4, ...</td>\n",
       "      <td>[0, 0, 0, 0, 0, 0, 0, 0, 0, 0, 0, -1, 1, -1, -...</td>\n",
       "      <td>[italy, austria]</td>\n",
       "      <td>1</td>\n",
       "    </tr>\n",
       "  </tbody>\n",
       "</table>\n",
       "</div>"
      ],
      "text/plain": [
       "                                            messages  \\\n",
       "0  [Germany!\\n\\nJust the person I want to speak w...   \n",
       "1  [Hello there! What's your general plan for thi...   \n",
       "\n",
       "                                       sender_labels  \\\n",
       "0  [True, True, True, True, True, True, True, Tru...   \n",
       "1  [True, False, True, False, True, True, True, T...   \n",
       "\n",
       "                                     receiver_labels  \\\n",
       "0  [True, True, True, True, NOANNOTATION, NOANNOT...   \n",
       "1  [True, True, True, True, True, NOANNOTATION, T...   \n",
       "\n",
       "                                            speakers  \\\n",
       "0  [italy, germany, italy, germany, italy, italy,...   \n",
       "1  [austria, italy, austria, italy, italy, austri...   \n",
       "\n",
       "                                           receivers  \\\n",
       "0  [germany, italy, germany, italy, germany, germ...   \n",
       "1  [italy, austria, italy, austria, austria, ital...   \n",
       "\n",
       "                              absolute_message_index  \\\n",
       "0  [74, 76, 86, 87, 89, 92, 97, 117, 119, 121, 12...   \n",
       "1  [1, 67, 71, 73, 98, 99, 101, 179, 181, 185, 18...   \n",
       "\n",
       "                              relative_message_index  \\\n",
       "0  [0, 1, 2, 3, 4, 5, 6, 7, 8, 9, 10, 11, 12, 13,...   \n",
       "1  [0, 1, 2, 3, 4, 5, 6, 7, 8, 9, 10, 11, 12, 13,...   \n",
       "\n",
       "                                             seasons  \\\n",
       "0  [Spring, Spring, Spring, Spring, Spring, Sprin...   \n",
       "1  [Spring, Spring, Spring, Spring, Spring, Sprin...   \n",
       "\n",
       "                                               years  \\\n",
       "0  [1901, 1901, 1901, 1901, 1901, 1901, 1901, 190...   \n",
       "1  [1901, 1901, 1901, 1901, 1901, 1901, 1901, 190...   \n",
       "\n",
       "                                          game_score  \\\n",
       "0  [3, 3, 3, 3, 3, 3, 3, 3, 3, 3, 3, 3, 3, 3, 3, ...   \n",
       "1  [3, 3, 3, 3, 3, 3, 3, 3, 3, 3, 3, 4, 5, 4, 4, ...   \n",
       "\n",
       "                                    game_score_delta           players  \\\n",
       "0  [0, 0, 0, 0, 0, 0, 0, 0, 0, 0, 0, 0, 0, 0, 0, ...  [italy, germany]   \n",
       "1  [0, 0, 0, 0, 0, 0, 0, 0, 0, 0, 0, -1, 1, -1, -...  [italy, austria]   \n",
       "\n",
       "   game_id  \n",
       "0        1  \n",
       "1        1  "
      ]
     },
     "execution_count": 3,
     "metadata": {},
     "output_type": "execute_result"
    }
   ],
   "source": [
    "mensajes_train.head(2)"
   ]
  },
  {
   "cell_type": "code",
   "execution_count": 4,
   "metadata": {},
   "outputs": [],
   "source": [
    "#LEER LAS COLUMNAS DEL DICIONARIO\n",
    "#for mensaje in mensajes:\n",
    "    #years = mensaje.get('years', 'Clave no encontrada')\n",
    "    #game_score = mensaje.get('game_score', 'Clave no encontrada')\n",
    "    #game_score_delta = mensaje.get('game_score_delta', 'Clave no encontrada')\n",
    "    #players = mensaje.get('players', 'Clave no encontrada')\n",
    "    #game_id = mensaje.get('game_id', 'Clave no encontrada')\n",
    "\n",
    "    # Imprime los valores\n",
    "    #print(f\"Years: {years}\")\n",
    "    #print(f\"Game Score: {game_score}\")\n",
    "    #print(f\"Game Score Delta: {game_score_delta}\")\n",
    "    #print(f\"Players: {players}\")\n",
    "    #print(f\"Game ID: {game_id}\")\n",
    "    #print(\"------\")"
   ]
  },
  {
   "cell_type": "code",
   "execution_count": 5,
   "metadata": {},
   "outputs": [
    {
     "name": "stdout",
     "output_type": "stream",
     "text": [
      "Index(['messages', 'sender_labels', 'receiver_labels', 'speakers', 'receivers',\n",
      "       'absolute_message_index', 'relative_message_index', 'seasons', 'years',\n",
      "       'game_score', 'game_score_delta', 'players', 'game_id'],\n",
      "      dtype='object')\n",
      "Index(['messages', 'sender_labels', 'receiver_labels', 'speakers', 'receivers',\n",
      "       'absolute_message_index', 'relative_message_index', 'seasons', 'years',\n",
      "       'game_score', 'game_score_delta', 'players', 'game_id'],\n",
      "      dtype='object')\n"
     ]
    }
   ],
   "source": [
    "# CONVERTIR A DATAFRAME\n",
    "df_test = pd.DataFrame(mensajes_test)\n",
    "df_train = pd.DataFrame(mensajes_train)\n",
    "\n",
    "print(df_train.columns)\n",
    "print(df_test.columns)\n",
    "#print(df_train.columns == df_test.columns)\n",
    "#print(df_train.head(1))"
   ]
  },
  {
   "cell_type": "code",
   "execution_count": 6,
   "metadata": {},
   "outputs": [],
   "source": [
    "#GUARDA UN DATAFRAME EN UN CSV\n",
    "df_test_to_csv =  df_train.to_csv(data_path + 'train.csv', index=False)\n",
    "df_train_to_csv = df_test.to_csv (data_path + 'test.csv', index=False)\n",
    "#NUEVA COLUMNA PARA SABER LA LONGITUD DE LOS MENSAJES Y SABER COMO SE COMPORTA\n",
    "df_test [\"longitud_test\"]= df_test [\"messages\"].apply(len)\n",
    "df_train[\"longitud_train\"]= df_train[\"messages\"].apply(len)"
   ]
  },
  {
   "cell_type": "code",
   "execution_count": 7,
   "metadata": {},
   "outputs": [],
   "source": [
    "#### ******** CONOCIENDO LOS DATOS VISUALMENTE ********"
   ]
  },
  {
   "cell_type": "code",
   "execution_count": 8,
   "metadata": {},
   "outputs": [
    {
     "data": {
      "image/png": "[encoded data removed]",
      "text/plain": [
       "<Figure size 640x480 with 1 Axes>"
      ]
     },
     "metadata": {},
     "output_type": "display_data"
    },
    {
     "data": {
      "image/png": "[encoded data removed]",
      "text/plain": [
       "<Figure size 640x480 with 1 Axes>"
      ]
     },
     "metadata": {},
     "output_type": "display_data"
    }
   ],
   "source": [
    "plt.figure()\n",
    "#plt.figure(figsize=(10,6))\n",
    "df_test[\"longitud_test\"].plot.hist(bins=200)\n",
    "plt.xlabel('Longitud del Mensaje')\n",
    "plt.ylabel('Frecuencia')\n",
    "plt.title('Histograma de longitud_test')\n",
    "plt.show()\n",
    "\n",
    "plt.figure()\n",
    "#plt.figure(figsize=(10,6))\n",
    "df_train[\"longitud_train\"].plot.hist(bins=200)\n",
    "plt.xlabel('Longitud del Mensaje')\n",
    "plt.ylabel('Frecuencia')\n",
    "plt.title('Histograma de longitud_train')\n",
    "plt.show()\n",
    "#DONDE MAS HAY MENSAJES CON RESPECTO A LA LONGITUD ES EN 0 Y 100 CON UNA FRECUENCIA ALTA DE 16\n",
    "#FRECUENCIA DEL NUMERO DE MENSAJES QUE TIENE ESA LONGITUD"
   ]
  },
  {
   "cell_type": "code",
   "execution_count": 9,
   "metadata": {},
   "outputs": [
    {
     "name": "stdout",
     "output_type": "stream",
     "text": [
      "count     42.000000\n",
      "mean      65.261905\n",
      "std       92.937445\n",
      "min        2.000000\n",
      "25%        8.000000\n",
      "50%       28.000000\n",
      "75%       84.000000\n",
      "max      388.000000\n",
      "Name: longitud_test, dtype: float64\n",
      "count    189.000000\n",
      "mean      69.481481\n",
      "std      109.868422\n",
      "min        0.000000\n",
      "25%       11.000000\n",
      "50%       29.000000\n",
      "75%       81.000000\n",
      "max      675.000000\n",
      "Name: longitud_train, dtype: float64\n"
     ]
    }
   ],
   "source": [
    "#SACANDO UNA DESCRIPCION DE LOS DATOS PARA SABER SU COMPORTAMIENTO\n",
    "df_test[\"longitud_test\"].describe()\n",
    "print(df_test[\"longitud_test\"].describe())\n",
    "df_train[\"longitud_train\"].describe()\n",
    "print(df_train[\"longitud_train\"].describe())\n",
    "#COUNT numero de elementos que hay\n",
    "#mean promedio\n",
    "#df[df[\"longitud\"]==388][\"messages\"].iloc[0]"
   ]
  },
  {
   "cell_type": "code",
   "execution_count": 15,
   "metadata": {},
   "outputs": [
    {
     "data": {
      "text/plain": [
       "array([[<Axes: title={'center': '1'}>, <Axes: title={'center': '2'}>,\n",
       "        <Axes: title={'center': '3'}>],\n",
       "       [<Axes: title={'center': '5'}>, <Axes: title={'center': '6'}>,\n",
       "        <Axes: title={'center': '7'}>],\n",
       "       [<Axes: title={'center': '8'}>, <Axes: title={'center': '9'}>,\n",
       "        <Axes: title={'center': '10'}>]], dtype=object)"
      ]
     },
     "execution_count": 15,
     "metadata": {},
     "output_type": "execute_result"
    },
    {
     "data": {
      "image/png": "[encoded data removed]",
      "text/plain": [
       "<Figure size 1000x400 with 2 Axes>"
      ]
     },
     "metadata": {},
     "output_type": "display_data"
    },
    {
     "data": {
      "image/png": "[encoded data removed]",
      "text/plain": [
       "<Figure size 1000x400 with 9 Axes>"
      ]
     },
     "metadata": {},
     "output_type": "display_data"
    }
   ],
   "source": [
    "#SACANDO UN HISTOGRAMA CON RESPECTO A LOS GAME_ID\n",
    "df_test.hist(column= 'longitud_test' , by='game_id', bins=100,figsize=(10,4))\n",
    "df_train.hist(column='longitud_train', by='game_id', bins=100,figsize=(10,4))\n"
   ]
  },
  {
   "cell_type": "code",
   "execution_count": null,
   "metadata": {},
   "outputs": [],
   "source": [
    "# Revisar la distribución de clases en el conjunto de entrenamiento\n",
    "print(\"Distribución de clases en el conjunto de entrenamiento:\")\n",
    "print(df_train['sender_annotation'].value_counts())\n",
    "\n",
    "#SE CONCLUYO QUE EL CONJUNTO DE DATOS DE ENTRENAMIENTO NO ESTA BALANCEADO\n",
    "#LO CUAL AFECTARIA AL MODELO\n"
   ]
  },
  {
   "cell_type": "code",
   "execution_count": null,
   "metadata": {},
   "outputs": [],
   "source": [
    "# Descargar las stop words\n",
    "#nltk.download('stopwords')\n",
    "#nltk.download('punkt')\n",
    "# cargar stop words en español (cambia 'spanish' por el idioma que necesites)\n",
    "#stop_words = set(stopwords.words('english'))\n",
    "#len(stop_words)\n",
    "#print(stop_words)\n",
    "\n",
    "#def limpiar_texto(texto):\n",
    "    # Verificar si el texto no es una cadena\n",
    "    # if not isinstance(texto, str):\n",
    "    #     # Si el texto es una lista, únelo en una cadena\n",
    "    #     if isinstance(texto, list):\n",
    "    #         texto = ' '.join(texto)\n",
    "    #         #print('si es una lista, unalo a una cadena',texto)\n",
    "    #     else:\n",
    "    #         return \"\"  # Si no es ni lista ni cadena, devuelve una cadena vacía\n",
    "\n",
    "    # texto = texto.lower()  # Convertir a minúsculas\n",
    "    # #print('texto en minnuscula',texto)\n",
    "    # texto = re.sub(r'\\W+', ' ', texto)  # Eliminar puntuación\n",
    "    # #print('texto sin puntuacion',texto)\n",
    "\n",
    "    # #tokenizar es dividir el texto en palabras\n",
    "    # palabras = word_tokenize(texto)\n",
    "    # #print('texto tokenizado',palabras)\n",
    "    # # Eliminar las stop words\n",
    "    # palabras_filtradas = [palabra for palabra in palabras if palabra not in stop_words]\n",
    "    # #print('texto filtrado',palabras_filtradas)\n",
    "    # texto_limpio = ' '.join(palabras_filtradas)\n",
    "    # print('texto limpio',texto_limpio)\n",
    "    # return texto_limpio\n",
    "\n",
    "\n",
    "# Suponiendo que tu DataFrame se llama 'df' y la columna con los mensajes se llama 'mensaje'\n",
    "#df_test['mensaje_limpio'] = df_test['messages'].apply(limpiar_texto)"
   ]
  },
  {
   "cell_type": "code",
   "execution_count": null,
   "metadata": {},
   "outputs": [],
   "source": []
  }
 ],
 "metadata": {
  "kernelspec": {
   "display_name": "base",
   "language": "python",
   "name": "python3"
  },
  "language_info": {
   "codemirror_mode": {
    "name": "ipython",
    "version": 3
   },
   "file_extension": ".py",
   "mimetype": "text/x-python",
   "name": "python",
   "nbconvert_exporter": "python",
   "pygments_lexer": "ipython3",
   "version": "3.11.3"
  }
 },
 "nbformat": 4,
 "nbformat_minor": 2
}
